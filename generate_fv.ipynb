{
 "cells": [
  {
   "cell_type": "code",
   "execution_count": null,
   "metadata": {},
   "outputs": [],
   "source": []
  }
 ],
 "metadata": {
  "kernelspec": {
   "display_name": "Python 3.8.13 64-bit ('deepLtorch3')",
   "language": "python",
   "name": "python3"
  },
  "language_info": {
   "name": "python",
   "version": "3.8.13"
  },
  "orig_nbformat": 4,
  "vscode": {
   "interpreter": {
    "hash": "ffb4ee6da7dff732a4458ae09a79ec797a19ff182b1b136a6b943d2e13294873"
   }
  }
 },
 "nbformat": 4,
 "nbformat_minor": 2
}
