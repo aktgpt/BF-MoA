{
 "cells": [
  {
   "cell_type": "code",
   "execution_count": 1,
   "metadata": {},
   "outputs": [],
   "source": [
    "import numpy as np\n",
    "import pandas as pd\n",
    "import random"
   ]
  },
  {
   "cell_type": "code",
   "execution_count": 2,
   "metadata": {},
   "outputs": [],
   "source": [
    "dmso_path = '/scratch-shared/phil/SPECS_phil/exp_stats/dmso_main.csv'\n",
    "dmso = pd.read_csv(dmso_path)\n",
    "\n",
    "bf_dmso_path = '/scratch-shared/phil/SPECS_phil/exp_stats/bf_dmso_main.csv'\n",
    "bf_dmso = pd.read_csv(bf_dmso_path)\n",
    "\n",
    "plates = bf_dmso.plate.unique()"
   ]
  },
  {
   "cell_type": "code",
   "execution_count": 3,
   "metadata": {},
   "outputs": [
    {
     "name": "stdout",
     "output_type": "stream",
     "text": [
      "0\n",
      "1\n",
      "2\n",
      "3\n",
      "4\n"
     ]
    }
   ],
   "source": [
    "for split in range(5):\n",
    "    print(split)\n",
    "    train_path = 'stats/new_train_val_test_5_splits/f_subset_train_split' + str(split + 1) + '.csv'\n",
    "    val_path = 'stats/new_train_val_test_5_splits/f_subset_val_split' + str(split + 1) + '.csv'\n",
    "    test_path = 'stats/new_train_val_test_5_splits/f_subset_test_split' + str(split + 1) + '.csv'\n",
    "    \n",
    "    bf_train_path = 'stats/new_train_val_test_5_splits/bf_subset_train_split' + str(split + 1) + '.csv'\n",
    "    bf_val_path = 'stats/new_train_val_test_5_splits/bf_subset_val_split' + str(split + 1) + '.csv'\n",
    "    bf_test_path = 'stats/new_train_val_test_5_splits/bf_subset_test_split' + str(split + 1) + '.csv'\n",
    "    \n",
    "    train_df = pd.read_csv(train_path)\n",
    "    val_df = pd.read_csv(val_path)\n",
    "    test_df = pd.read_csv(test_path)\n",
    "    \n",
    "    bf_train_df = pd.read_csv(bf_train_path)\n",
    "    bf_val_df = pd.read_csv(bf_val_path)\n",
    "    bf_test_df = pd.read_csv(bf_test_path)\n",
    "    \n",
    "    train_plates = train_df.plate.unique()\n",
    "    val_plates = val_df.plate.unique()\n",
    "    test_plates = test_df.plate.unique()\n",
    "    \n",
    "    for plate in plates:\n",
    "        dmso_plate = dmso[dmso['plate']==plate]\n",
    "        bf_dmso_plate = bf_dmso[bf_dmso['plate']==plate]\n",
    "        \n",
    "        wells = dmso_plate.well.unique()\n",
    "        \n",
    "        # train data (five wells from each plate)\n",
    "        if np.isin(plate, train_plates):\n",
    "            wells_train = np.random.choice(wells, size=5, replace=False)\n",
    "            \n",
    "            dmso_wells = dmso_plate[dmso_plate.well.isin(wells_train)]\n",
    "            dmso_wells = dmso_wells.reset_index(drop=True)\n",
    "            dmso_wells['moa'] = ['dmso']*len(dmso_wells)\n",
    "            dmso_wells.insert(2, 'compound', ['dmso']*len(dmso_wells))\n",
    "            train_df = pd.concat([train_df, dmso_wells]).reset_index(drop=True)\n",
    "            \n",
    "            bf_dmso_wells = bf_dmso_plate[bf_dmso_plate.well.isin(wells_train)]\n",
    "            bf_dmso_wells = bf_dmso_wells.reset_index(drop=True)\n",
    "            bf_dmso_wells['moa'] = ['dmso']*len(bf_dmso_wells)\n",
    "            bf_dmso_wells.insert(2, 'compound', ['dmso']*len(bf_dmso_wells))\n",
    "            bf_train_df = pd.concat([bf_train_df, bf_dmso_wells]).reset_index(drop=True)\n",
    "            \n",
    "            wells = wells[np.isin(wells, wells_train, invert=True)]\n",
    "        \n",
    "        # val data (one well from each plate)\n",
    "        if np.isin(plate, val_plates):\n",
    "            wells_val = np.random.choice(wells, size=1, replace=False)\n",
    "            \n",
    "            dmso_wells = dmso_plate[dmso_plate.well.isin(wells_val)]\n",
    "            dmso_wells = dmso_wells.reset_index(drop=True)\n",
    "            dmso_wells['moa'] = ['dmso']*len(dmso_wells)\n",
    "            dmso_wells.insert(2, 'compound', ['dmso']*len(dmso_wells))\n",
    "            val_df = pd.concat([val_df, dmso_wells]).reset_index(drop=True)\n",
    "            \n",
    "            bf_dmso_wells = bf_dmso_plate[bf_dmso_plate.well.isin(wells_val)]\n",
    "            bf_dmso_wells = bf_dmso_wells.reset_index(drop=True)\n",
    "            bf_dmso_wells['moa'] = ['dmso']*len(bf_dmso_wells)\n",
    "            bf_dmso_wells.insert(2, 'compound', ['dmso']*len(bf_dmso_wells))\n",
    "            bf_val_df = pd.concat([bf_val_df, bf_dmso_wells]).reset_index(drop=True)\n",
    "            \n",
    "            wells = wells[np.isin(wells, wells_val, invert=True)]\n",
    "        \n",
    "        # test data (two wells from each plate)\n",
    "        if np.isin(plate, test_plates):\n",
    "            wells_test = np.random.choice(wells, size=2, replace=False)\n",
    "            \n",
    "            dmso_wells = dmso_plate[dmso_plate.well.isin(wells_test)]\n",
    "            dmso_wells = dmso_wells.reset_index(drop=True)\n",
    "            dmso_wells['moa'] = ['dmso']*len(dmso_wells)\n",
    "            dmso_wells.insert(2, 'compound', ['dmso']*len(dmso_wells))\n",
    "            test_df = pd.concat([test_df, dmso_wells]).reset_index(drop=True)\n",
    "            \n",
    "            bf_dmso_wells = bf_dmso_plate[bf_dmso_plate.well.isin(wells_test)]\n",
    "            bf_dmso_wells = bf_dmso_wells.reset_index(drop=True)\n",
    "            bf_dmso_wells['moa'] = ['dmso']*len(bf_dmso_wells)\n",
    "            bf_dmso_wells.insert(2, 'compound', ['dmso']*len(bf_dmso_wells))\n",
    "            bf_test_df = pd.concat([bf_test_df, bf_dmso_wells]).reset_index(drop=True)\n",
    "    \n",
    "    train_df.to_csv(train_path, index=False)\n",
    "    val_df.to_csv(val_path, index=False)\n",
    "    test_df.to_csv(test_path, index=False)\n",
    "    \n",
    "    bf_train_df.to_csv(bf_train_path, index=False)\n",
    "    bf_val_df.to_csv(bf_val_path, index=False)\n",
    "    bf_test_df.to_csv(bf_test_path, index=False)"
   ]
  }
 ],
 "metadata": {
  "kernelspec": {
   "display_name": "Python 3",
   "language": "python",
   "name": "python3"
  },
  "language_info": {
   "codemirror_mode": {
    "name": "ipython",
    "version": 3
   },
   "file_extension": ".py",
   "mimetype": "text/x-python",
   "name": "python",
   "nbconvert_exporter": "python",
   "pygments_lexer": "ipython3",
   "version": "3.6.9"
  }
 },
 "nbformat": 4,
 "nbformat_minor": 4
}
