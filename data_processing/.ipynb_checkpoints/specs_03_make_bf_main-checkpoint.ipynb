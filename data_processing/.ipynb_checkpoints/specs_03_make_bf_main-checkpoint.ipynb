{
 "cells": [
  {
   "cell_type": "code",
   "execution_count": 18,
   "metadata": {},
   "outputs": [],
   "source": [
    "import pandas as pd\n",
    "import numpy as np\n",
    "import os\n",
    "import cv2\n",
    "import tqdm\n",
    "import glob"
   ]
  },
  {
   "cell_type": "code",
   "execution_count": 19,
   "metadata": {},
   "outputs": [],
   "source": [
    "fcsv_path = '/scratch-shared/phil/SPECS_phil/exp_stats/main.csv'\n",
    "df = pd.read_csv(fcsv_path)"
   ]
  },
  {
   "cell_type": "code",
   "execution_count": 20,
   "metadata": {},
   "outputs": [],
   "source": [
    "moas = ['Aurora kinase inhibitor', 'tubulin polymerization inhibitor', 'JAK inhibitor', 'protein synthesis inhibitor', 'HDAC inhibitor', \n",
    "        'topoisomerase inhibitor', 'PARP inhibitor', 'ATPase inhibitor', 'retinoid receptor agonist', 'HSP inhibitor']"
   ]
  },
  {
   "cell_type": "code",
   "execution_count": 21,
   "metadata": {},
   "outputs": [],
   "source": [
    "df2 = df[df.moa.isin(moas)]"
   ]
  },
  {
   "cell_type": "code",
   "execution_count": 22,
   "metadata": {},
   "outputs": [
    {
     "data": {
      "text/plain": [
       "HDAC inhibitor                      1782\n",
       "topoisomerase inhibitor             1728\n",
       "HSP inhibitor                       1296\n",
       "protein synthesis inhibitor         1242\n",
       "JAK inhibitor                       1188\n",
       "PARP inhibitor                      1134\n",
       "Aurora kinase inhibitor             1080\n",
       "tubulin polymerization inhibitor    1080\n",
       "retinoid receptor agonist           1026\n",
       "ATPase inhibitor                    1026\n",
       "Name: moa, dtype: int64"
      ]
     },
     "execution_count": 22,
     "metadata": {},
     "output_type": "execute_result"
    }
   ],
   "source": [
    "df2.moa.value_counts()"
   ]
  },
  {
   "cell_type": "code",
   "execution_count": 23,
   "metadata": {},
   "outputs": [],
   "source": [
    "fold = glob.glob('/mnt/micro-images-pvc/jonne' + '/specs935*')\n",
    "imaged_plates = np.unique([x.split('-')[5] for x in fold])"
   ]
  },
  {
   "cell_type": "code",
   "execution_count": 24,
   "metadata": {},
   "outputs": [
    {
     "data": {
      "text/plain": [
       "array(['P015076', 'P015077', 'P015078', 'P015079', 'P015080', 'P015081',\n",
       "       'P015082', 'P015083', 'P015084', 'P015085', 'P015087', 'P015088',\n",
       "       'P015089', 'P015090', 'P015091', 'P015092', 'P015093', 'P015094',\n",
       "       'P015095', 'P015096', 'P015097', 'P015098', 'P015099'], dtype='<U7')"
      ]
     },
     "execution_count": 24,
     "metadata": {},
     "output_type": "execute_result"
    }
   ],
   "source": [
    "imaged_plates"
   ]
  },
  {
   "cell_type": "code",
   "execution_count": null,
   "metadata": {},
   "outputs": [],
   "source": []
  },
  {
   "cell_type": "code",
   "execution_count": 25,
   "metadata": {},
   "outputs": [
    {
     "data": {
      "text/plain": [
       "array(['P015076', 'P015077', 'P015078', 'P015079', 'P015080', 'P015081',\n",
       "       'P015082', 'P015083', 'P015084', 'P015085', 'P015087', 'P015088',\n",
       "       'P015089', 'P015090', 'P015091', 'P015092', 'P015093', 'P015094',\n",
       "       'P015095', 'P015096', 'P015097', 'P015098', 'P015099'], dtype='<U7')"
      ]
     },
     "execution_count": 25,
     "metadata": {},
     "output_type": "execute_result"
    }
   ],
   "source": [
    "imaged_plates"
   ]
  },
  {
   "cell_type": "code",
   "execution_count": 26,
   "metadata": {},
   "outputs": [],
   "source": [
    "df2 = df2[df2.plate.isin(imaged_plates)] "
   ]
  },
  {
   "cell_type": "code",
   "execution_count": 27,
   "metadata": {},
   "outputs": [
    {
     "data": {
      "text/plain": [
       "HDAC inhibitor                      1782\n",
       "topoisomerase inhibitor             1728\n",
       "HSP inhibitor                       1296\n",
       "protein synthesis inhibitor         1242\n",
       "JAK inhibitor                       1188\n",
       "PARP inhibitor                      1134\n",
       "Aurora kinase inhibitor             1080\n",
       "tubulin polymerization inhibitor    1080\n",
       "retinoid receptor agonist           1026\n",
       "ATPase inhibitor                    1026\n",
       "Name: moa, dtype: int64"
      ]
     },
     "execution_count": 27,
     "metadata": {},
     "output_type": "execute_result"
    }
   ],
   "source": [
    "df2.moa.value_counts()"
   ]
  },
  {
   "cell_type": "code",
   "execution_count": 28,
   "metadata": {},
   "outputs": [
    {
     "data": {
      "text/plain": [
       "array(['P015076', 'P015077', 'P015080', 'P015081', 'P015082', 'P015083',\n",
       "       'P015084', 'P015085', 'P015090', 'P015091', 'P015092', 'P015093',\n",
       "       'P015094', 'P015095', 'P015096', 'P015097', 'P015098', 'P015099'],\n",
       "      dtype=object)"
      ]
     },
     "execution_count": 28,
     "metadata": {},
     "output_type": "execute_result"
    }
   ],
   "source": [
    "known_plates = df2.plate.unique()\n",
    "known_plates"
   ]
  },
  {
   "cell_type": "code",
   "execution_count": 29,
   "metadata": {},
   "outputs": [],
   "source": [
    "df = df[df.plate.isin(known_plates)]"
   ]
  },
  {
   "cell_type": "code",
   "execution_count": 30,
   "metadata": {},
   "outputs": [],
   "source": [
    "fold = glob.glob('/mnt/micro-images-pvc/jonne' + '/specs935*')\n",
    "folds = []\n",
    "for i in range(len(known_plates)):\n",
    "    f = [x for x in fold if known_plates[i] in x][-1]\n",
    "    folds.append(f)"
   ]
  },
  {
   "cell_type": "code",
   "execution_count": 31,
   "metadata": {},
   "outputs": [
    {
     "data": {
      "text/plain": [
       "21560"
      ]
     },
     "execution_count": 31,
     "metadata": {},
     "output_type": "execute_result"
    }
   ],
   "source": [
    "len(glob.glob(folds[-1] + '/*/*/*.tif'))"
   ]
  },
  {
   "cell_type": "code",
   "execution_count": 32,
   "metadata": {},
   "outputs": [],
   "source": [
    "files = glob.glob(sorted(glob.glob(folds[2] + '/*/*'))[-1] + '/*.tif')\n",
    "files = sorted([x for x in files if '_thumb' not in x])"
   ]
  },
  {
   "cell_type": "code",
   "execution_count": 45,
   "metadata": {},
   "outputs": [
    {
     "name": "stderr",
     "output_type": "stream",
     "text": [
      "100%|██████████| 174/174 [00:07<00:00, 24.38it/s]\n",
      "100%|██████████| 174/174 [00:07<00:00, 24.80it/s]\n",
      "100%|██████████| 189/189 [00:07<00:00, 24.89it/s]\n",
      "100%|██████████| 189/189 [00:08<00:00, 23.34it/s]\n",
      "100%|██████████| 219/219 [00:09<00:00, 22.80it/s]\n",
      "100%|██████████| 219/219 [00:10<00:00, 21.62it/s]\n",
      "100%|██████████| 234/234 [00:11<00:00, 21.15it/s]\n",
      "100%|██████████| 234/234 [00:11<00:00, 20.82it/s]\n",
      "100%|██████████| 234/234 [00:10<00:00, 21.59it/s]\n",
      "100%|██████████| 234/234 [00:12<00:00, 19.33it/s]\n",
      "100%|██████████| 234/234 [00:12<00:00, 18.38it/s]\n",
      "100%|██████████| 234/234 [00:13<00:00, 17.51it/s]\n",
      "100%|██████████| 234/234 [00:14<00:00, 16.16it/s]\n",
      "100%|██████████| 234/234 [00:14<00:00, 15.82it/s]\n",
      "100%|██████████| 234/234 [00:15<00:00, 14.86it/s]\n",
      "100%|██████████| 234/234 [00:16<00:00, 14.62it/s]\n",
      "100%|██████████| 228/228 [00:15<00:00, 14.32it/s]\n",
      "100%|██████████| 228/228 [00:16<00:00, 13.62it/s]\n"
     ]
    }
   ],
   "source": [
    "columns = ['plate', 'well', 'compound', 'path', 'nuclei', 'C1', 'C2', 'C3', 'C4', 'C5', 'C6', 'moa']\n",
    "bf_df = pd.DataFrame(columns=columns)\n",
    "\n",
    "for file_idx in range(len(known_plates)):\n",
    "    files = glob.glob(sorted(glob.glob(folds[file_idx] + '/*/*'))[-1] + '/*.tif')\n",
    "    files = sorted([x for x in files if '_thumb' not in x])\n",
    "    \n",
    "    if '-run2' in folds[file_idx] and os.path.exists(folds[file_idx].replace('-run2','')):\n",
    "        files2 = glob.glob(sorted(glob.glob(folds[file_idx].replace('-run2','') + '/*/*'))[-1] + '/*.tif')\n",
    "        files2 = sorted([x for x in files2 if '_thumb' not in x])\n",
    "        \n",
    "        files = np.concatenate((files,files2))\n",
    "        files = sorted(files)\n",
    "        \n",
    "    d = df[df.plate == known_plates[file_idx]]\n",
    "    \n",
    "    for well in tqdm.tqdm(sorted(d.well.unique())):\n",
    "        image_files = [x for x in files if '_' + well + '_' in x]\n",
    "        if len(image_files) == 0:\n",
    "            continue\n",
    "        for site in ['s1','s2', 's3', 's4', 's5']:\n",
    "            row_files = sorted([x for x in image_files if '_' + site + '_' in x])\n",
    "            \n",
    "            path = '/' + np.unique([os.path.join(*x.split('/')[:-1]) for x in row_files])[0]\n",
    "            \n",
    "            row = {'plate':known_plates[file_idx], 'well':well, 'compound':d[d.well == well].compound.unique().item(), \n",
    "                   'path':path, 'nuclei':[x for x in row_files if '_w1' in x and path in x][0].split('/')[-1], 'C1':[x for x in row_files if '_w2' in x and path in x][0].split('/')[-1], \n",
    "                   'C2':[x for x in row_files if '_w3' in x and path in x][0].split('/')[-1], 'C3':[x for x in row_files if '_w4' in x and path in x][0].split('/')[-1], 'C4':[x for x in row_files if '_w5' in x and path in x][0].split('/')[-1], \n",
    "                   'C5':[x for x in row_files if '_w6' in x and path in x][0].split('/')[-1], 'C6':[x for x in row_files if '_w7' in x and path in x][0].split('/')[-1], 'moa':d[d.well == well].moa.unique().item()}\n",
    "            bf_df = bf_df.append(row, ignore_index = True)"
   ]
  },
  {
   "cell_type": "code",
   "execution_count": 46,
   "metadata": {},
   "outputs": [],
   "source": [
    "bf_df.to_csv('/scratch-shared/phil/SPECS_phil/exp_stats/bf_main.csv', index=False)"
   ]
  },
  {
   "cell_type": "code",
   "execution_count": 43,
   "metadata": {},
   "outputs": [
    {
     "data": {
      "text/plain": [
       "True"
      ]
     },
     "execution_count": 44,
     "metadata": {},
     "output_type": "execute_result"
    }
   ],
   "source": [
    "os.path.exists('/mnt/micro-images-pvc/jonne/specs935-v1-FA-P015079-U2OS-48h-P2-L2-TL-run2'.replace('-run2',''))"
   ]
  },
  {
   "cell_type": "code",
   "execution_count": 35,
   "metadata": {},
   "outputs": [
    {
     "data": {
      "text/plain": [
       "12"
      ]
     },
     "execution_count": 35,
     "metadata": {},
     "output_type": "execute_result"
    }
   ],
   "source": [
    "file_idx"
   ]
  },
  {
   "cell_type": "code",
   "execution_count": 40,
   "metadata": {},
   "outputs": [
    {
     "data": {
      "text/plain": [
       "['/mnt/micro-images-pvc/jonne/specs935-v1-FA-P015076-U2OS-48h-P1-L1-TL-lid',\n",
       " '/mnt/micro-images-pvc/jonne/specs935-v1-FA-P015076-U2OS-48h-P1-L1-TL-paper',\n",
       " '/mnt/micro-images-pvc/jonne/specs935-v1-FA-P015076-U2OS-48h-P1-L1-TL-sticker',\n",
       " '/mnt/micro-images-pvc/jonne/specs935-v1-FA-P015076-U2OS-48h-P1-L1-TL-seal',\n",
       " '/mnt/micro-images-pvc/jonne/specs935-v1-FA-P015076-U2OS-48h-P1-L1-TL-seal-lid',\n",
       " '/mnt/micro-images-pvc/jonne/specs935-v1-FA-P015076-U2OS-48h-P1-L1-TL',\n",
       " '/mnt/micro-images-pvc/jonne/specs935-v1-FA-P015077-U2OS-48h-P1-L2-TL',\n",
       " '/mnt/micro-images-pvc/jonne/specs935-v1-FA-P015078-U2OS-48h-P2-L1-TL',\n",
       " '/mnt/micro-images-pvc/jonne/specs935-v1-FA-P015079-U2OS-48h-P2-L2-TL',\n",
       " '/mnt/micro-images-pvc/jonne/specs935-v1-FA-P015079-U2OS-48h-P2-L2-TL-run2',\n",
       " '/mnt/micro-images-pvc/jonne/specs935-v1-FA-P015080-U2OS-48h-P3-L1-TL',\n",
       " '/mnt/micro-images-pvc/jonne/specs935-v1-FA-P015080-U2OS-48h-P3-L1-TL-run2',\n",
       " '/mnt/micro-images-pvc/jonne/specs935-v1-FA-P015081-U2OS-48h-P3-L2-TL',\n",
       " '/mnt/micro-images-pvc/jonne/specs935-v1-FA-P015082-U2OS-48h-P4-L1-TL',\n",
       " '/mnt/micro-images-pvc/jonne/specs935-v1-FA-P015083-U2OS-48h-P4-L2-TL',\n",
       " '/mnt/micro-images-pvc/jonne/specs935-v1-FA-P015084-U2OS-48h-P5-L1-TL',\n",
       " '/mnt/micro-images-pvc/jonne/specs935-v1-FA-P015085-U2OS-48h-P5-L2-TL',\n",
       " '/mnt/micro-images-pvc/jonne/specs935-v1-FA-P015087-U2OS-48h-P6-L2-TL',\n",
       " '/mnt/micro-images-pvc/jonne/specs935-v1-FA-P015091-U2OS-48h-P8-L2-TL',\n",
       " '/mnt/micro-images-pvc/jonne/specs935-v1-FA-P015095-U2OS-48h-P10-L2-TL',\n",
       " '/mnt/micro-images-pvc/jonne/specs935-v1-FA-P015095-U2OS-48h-P10-L2-TL-run2',\n",
       " '/mnt/micro-images-pvc/jonne/specs935-v1-FA-P015096-U2OS-48h-P11-L1-TL',\n",
       " '/mnt/micro-images-pvc/jonne/specs935-v1-FA-P015092-U2OS-48h-P9-L1-TL',\n",
       " '/mnt/micro-images-pvc/jonne/specs935-v1-FA-P015092-U2OS-48h-P9-L1-TL-run2',\n",
       " '/mnt/micro-images-pvc/jonne/specs935-v1-FA-P015094-U2OS-48h-P10-L1-TL-run2',\n",
       " '/mnt/micro-images-pvc/jonne/specs935-v1-FA-P015098-U2OS-48h-P12-L1-TL-run2',\n",
       " '/mnt/micro-images-pvc/jonne/specs935-v1-FA-P015097-U2OS-48h-P11-L2-TL-run2',\n",
       " '/mnt/micro-images-pvc/jonne/specs935-v1-FA-P015090-U2OS-48h-P8-L1-TL',\n",
       " '/mnt/micro-images-pvc/jonne/specs935-v1-FA-P015088-U2OS-48h-P7-L1-TL',\n",
       " '/mnt/micro-images-pvc/jonne/specs935-v1-FA-P015099-U2OS-48h-P12-L2-TL',\n",
       " '/mnt/micro-images-pvc/jonne/specs935-v1-FA-P015093-U2OS-48h-P9-L2-TL',\n",
       " '/mnt/micro-images-pvc/jonne/specs935-v1-FA-P015093-U2OS-48h-P9-L2-TL-run2',\n",
       " '/mnt/micro-images-pvc/jonne/specs935-v1-FA-P015089-U2OS-48h-P7-L2-TL']"
      ]
     },
     "execution_count": 40,
     "metadata": {},
     "output_type": "execute_result"
    }
   ],
   "source": [
    "fold"
   ]
  },
  {
   "cell_type": "code",
   "execution_count": null,
   "metadata": {},
   "outputs": [],
   "source": []
  }
 ],
 "metadata": {
  "kernelspec": {
   "display_name": "Python 3",
   "language": "python",
   "name": "python3"
  },
  "language_info": {
   "codemirror_mode": {
    "name": "ipython",
    "version": 3
   },
   "file_extension": ".py",
   "mimetype": "text/x-python",
   "name": "python",
   "nbconvert_exporter": "python",
   "pygments_lexer": "ipython3",
   "version": "3.6.9"
  }
 },
 "nbformat": 4,
 "nbformat_minor": 4
}
