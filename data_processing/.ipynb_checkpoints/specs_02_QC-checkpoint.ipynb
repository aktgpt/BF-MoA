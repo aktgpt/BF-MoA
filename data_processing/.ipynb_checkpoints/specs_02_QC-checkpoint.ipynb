{
 "cells": [
  {
   "cell_type": "code",
   "execution_count": null,
   "metadata": {},
   "outputs": [],
   "source": [
    "# https://github.com/pharmbio/QualityControl_Ebba/blob/main/QC_Specs_2022-01-19.ipynb"
   ]
  },
  {
   "cell_type": "code",
   "execution_count": 1,
   "metadata": {},
   "outputs": [],
   "source": [
    "import random\n",
    "import numpy as np\n",
    "import matplotlib.pyplot as plt\n",
    "import pandas as pd\n",
    "import cv2\n",
    "import re\n",
    "import glob\n",
    "import os, shutil\n",
    "import datetime\n",
    "import xml.etree.ElementTree as ET\n",
    "\n",
    "# misc functions\n",
    "def atoi(text):\n",
    "    return int(text) if text.isdigit() else text\n",
    "\n",
    "def natural_keys(text):\n",
    "    return [atoi(c) for c in re.split('(\\d+)', text)]"
   ]
  },
  {
   "cell_type": "code",
   "execution_count": 2,
   "metadata": {},
   "outputs": [],
   "source": [
    "root = '/cpp-work/results/specs935-v1-FA-P015076-U2OS-48h-P1-L1/1320/900/'"
   ]
  },
  {
   "cell_type": "code",
   "execution_count": 7,
   "metadata": {},
   "outputs": [],
   "source": [
    "flags = pd.read_csv(root +'qcRAW_images_specs935-v1-FA-P015076-U2OS-48h-P1-L1.csv', sep=',')"
   ]
  },
  {
   "cell_type": "code",
   "execution_count": 8,
   "metadata": {},
   "outputs": [
    {
     "data": {
      "text/html": [
       "<div>\n",
       "<style scoped>\n",
       "    .dataframe tbody tr th:only-of-type {\n",
       "        vertical-align: middle;\n",
       "    }\n",
       "\n",
       "    .dataframe tbody tr th {\n",
       "        vertical-align: top;\n",
       "    }\n",
       "\n",
       "    .dataframe thead th {\n",
       "        text-align: right;\n",
       "    }\n",
       "</style>\n",
       "<table border=\"1\" class=\"dataframe\">\n",
       "  <thead>\n",
       "    <tr style=\"text-align: right;\">\n",
       "      <th></th>\n",
       "      <th>AreaOccupied_AreaOccupied_nuclei</th>\n",
       "      <th>AreaOccupied_Perimeter_nuclei</th>\n",
       "      <th>AreaOccupied_TotalArea_nuclei</th>\n",
       "      <th>Count_nuclei</th>\n",
       "      <th>ExecutionTime_01LoadData</th>\n",
       "      <th>ExecutionTime_02MeasureImageQuality</th>\n",
       "      <th>ExecutionTime_03FlagImage</th>\n",
       "      <th>ExecutionTime_04MeasureImageQuality</th>\n",
       "      <th>ExecutionTime_05FlagImage</th>\n",
       "      <th>ExecutionTime_06MeasureImageQuality</th>\n",
       "      <th>...</th>\n",
       "      <th>qc_flag_rawCONC_Blurred</th>\n",
       "      <th>qc_flag_rawCONC_Saturated</th>\n",
       "      <th>qc_flag_rawHOECHST_Blurry</th>\n",
       "      <th>qc_flag_rawHOECHST_Saturated</th>\n",
       "      <th>qc_flag_rawMITO_Blurry</th>\n",
       "      <th>qc_flag_rawMITO_Saturated</th>\n",
       "      <th>qc_flag_rawPHAandWGA_Blurry</th>\n",
       "      <th>qc_flag_rawPHAandWGA_Saturated</th>\n",
       "      <th>qc_flag_rawSYTO_Blurred</th>\n",
       "      <th>qc_flag_rawSYTO_Saturated</th>\n",
       "    </tr>\n",
       "  </thead>\n",
       "  <tbody>\n",
       "    <tr>\n",
       "      <th>0</th>\n",
       "      <td>123349.0</td>\n",
       "      <td>9792.0</td>\n",
       "      <td>4665600.0</td>\n",
       "      <td>50.0</td>\n",
       "      <td>3.11</td>\n",
       "      <td>9.76</td>\n",
       "      <td>0.00</td>\n",
       "      <td>9.69</td>\n",
       "      <td>0.0</td>\n",
       "      <td>10.61</td>\n",
       "      <td>...</td>\n",
       "      <td>0</td>\n",
       "      <td>0</td>\n",
       "      <td>1</td>\n",
       "      <td>0</td>\n",
       "      <td>0</td>\n",
       "      <td>0</td>\n",
       "      <td>0</td>\n",
       "      <td>0</td>\n",
       "      <td>0</td>\n",
       "      <td>0</td>\n",
       "    </tr>\n",
       "    <tr>\n",
       "      <th>1</th>\n",
       "      <td>290394.0</td>\n",
       "      <td>23039.0</td>\n",
       "      <td>4665600.0</td>\n",
       "      <td>120.0</td>\n",
       "      <td>2.92</td>\n",
       "      <td>10.06</td>\n",
       "      <td>0.00</td>\n",
       "      <td>10.29</td>\n",
       "      <td>0.0</td>\n",
       "      <td>11.01</td>\n",
       "      <td>...</td>\n",
       "      <td>0</td>\n",
       "      <td>0</td>\n",
       "      <td>1</td>\n",
       "      <td>0</td>\n",
       "      <td>0</td>\n",
       "      <td>0</td>\n",
       "      <td>0</td>\n",
       "      <td>0</td>\n",
       "      <td>0</td>\n",
       "      <td>0</td>\n",
       "    </tr>\n",
       "    <tr>\n",
       "      <th>2</th>\n",
       "      <td>226897.0</td>\n",
       "      <td>18646.0</td>\n",
       "      <td>4665600.0</td>\n",
       "      <td>99.0</td>\n",
       "      <td>2.76</td>\n",
       "      <td>10.02</td>\n",
       "      <td>0.00</td>\n",
       "      <td>9.71</td>\n",
       "      <td>0.0</td>\n",
       "      <td>11.04</td>\n",
       "      <td>...</td>\n",
       "      <td>0</td>\n",
       "      <td>0</td>\n",
       "      <td>1</td>\n",
       "      <td>0</td>\n",
       "      <td>0</td>\n",
       "      <td>0</td>\n",
       "      <td>0</td>\n",
       "      <td>0</td>\n",
       "      <td>0</td>\n",
       "      <td>0</td>\n",
       "    </tr>\n",
       "    <tr>\n",
       "      <th>3</th>\n",
       "      <td>340560.0</td>\n",
       "      <td>27192.0</td>\n",
       "      <td>4665600.0</td>\n",
       "      <td>143.0</td>\n",
       "      <td>2.81</td>\n",
       "      <td>10.24</td>\n",
       "      <td>0.00</td>\n",
       "      <td>11.29</td>\n",
       "      <td>0.0</td>\n",
       "      <td>11.10</td>\n",
       "      <td>...</td>\n",
       "      <td>0</td>\n",
       "      <td>0</td>\n",
       "      <td>1</td>\n",
       "      <td>0</td>\n",
       "      <td>0</td>\n",
       "      <td>0</td>\n",
       "      <td>0</td>\n",
       "      <td>0</td>\n",
       "      <td>0</td>\n",
       "      <td>0</td>\n",
       "    </tr>\n",
       "    <tr>\n",
       "      <th>4</th>\n",
       "      <td>307153.0</td>\n",
       "      <td>22637.0</td>\n",
       "      <td>4665600.0</td>\n",
       "      <td>104.0</td>\n",
       "      <td>2.99</td>\n",
       "      <td>10.15</td>\n",
       "      <td>0.01</td>\n",
       "      <td>10.02</td>\n",
       "      <td>0.0</td>\n",
       "      <td>10.89</td>\n",
       "      <td>...</td>\n",
       "      <td>0</td>\n",
       "      <td>0</td>\n",
       "      <td>1</td>\n",
       "      <td>0</td>\n",
       "      <td>0</td>\n",
       "      <td>0</td>\n",
       "      <td>0</td>\n",
       "      <td>0</td>\n",
       "      <td>0</td>\n",
       "      <td>0</td>\n",
       "    </tr>\n",
       "    <tr>\n",
       "      <th>...</th>\n",
       "      <td>...</td>\n",
       "      <td>...</td>\n",
       "      <td>...</td>\n",
       "      <td>...</td>\n",
       "      <td>...</td>\n",
       "      <td>...</td>\n",
       "      <td>...</td>\n",
       "      <td>...</td>\n",
       "      <td>...</td>\n",
       "      <td>...</td>\n",
       "      <td>...</td>\n",
       "      <td>...</td>\n",
       "      <td>...</td>\n",
       "      <td>...</td>\n",
       "      <td>...</td>\n",
       "      <td>...</td>\n",
       "      <td>...</td>\n",
       "      <td>...</td>\n",
       "      <td>...</td>\n",
       "      <td>...</td>\n",
       "      <td>...</td>\n",
       "    </tr>\n",
       "    <tr>\n",
       "      <th>2767</th>\n",
       "      <td>414858.0</td>\n",
       "      <td>32265.0</td>\n",
       "      <td>4665600.0</td>\n",
       "      <td>163.0</td>\n",
       "      <td>3.10</td>\n",
       "      <td>10.01</td>\n",
       "      <td>0.00</td>\n",
       "      <td>9.98</td>\n",
       "      <td>0.0</td>\n",
       "      <td>11.40</td>\n",
       "      <td>...</td>\n",
       "      <td>0</td>\n",
       "      <td>0</td>\n",
       "      <td>1</td>\n",
       "      <td>0</td>\n",
       "      <td>0</td>\n",
       "      <td>0</td>\n",
       "      <td>0</td>\n",
       "      <td>0</td>\n",
       "      <td>0</td>\n",
       "      <td>0</td>\n",
       "    </tr>\n",
       "    <tr>\n",
       "      <th>2768</th>\n",
       "      <td>359899.0</td>\n",
       "      <td>28419.0</td>\n",
       "      <td>4665600.0</td>\n",
       "      <td>140.0</td>\n",
       "      <td>2.61</td>\n",
       "      <td>10.71</td>\n",
       "      <td>0.00</td>\n",
       "      <td>11.77</td>\n",
       "      <td>0.0</td>\n",
       "      <td>11.09</td>\n",
       "      <td>...</td>\n",
       "      <td>0</td>\n",
       "      <td>0</td>\n",
       "      <td>1</td>\n",
       "      <td>0</td>\n",
       "      <td>0</td>\n",
       "      <td>0</td>\n",
       "      <td>0</td>\n",
       "      <td>0</td>\n",
       "      <td>0</td>\n",
       "      <td>0</td>\n",
       "    </tr>\n",
       "    <tr>\n",
       "      <th>2769</th>\n",
       "      <td>343592.0</td>\n",
       "      <td>27446.0</td>\n",
       "      <td>4665600.0</td>\n",
       "      <td>140.0</td>\n",
       "      <td>2.95</td>\n",
       "      <td>10.99</td>\n",
       "      <td>0.00</td>\n",
       "      <td>11.16</td>\n",
       "      <td>0.0</td>\n",
       "      <td>11.37</td>\n",
       "      <td>...</td>\n",
       "      <td>0</td>\n",
       "      <td>0</td>\n",
       "      <td>1</td>\n",
       "      <td>0</td>\n",
       "      <td>0</td>\n",
       "      <td>0</td>\n",
       "      <td>0</td>\n",
       "      <td>0</td>\n",
       "      <td>0</td>\n",
       "      <td>0</td>\n",
       "    </tr>\n",
       "    <tr>\n",
       "      <th>2770</th>\n",
       "      <td>399083.0</td>\n",
       "      <td>31948.0</td>\n",
       "      <td>4665600.0</td>\n",
       "      <td>158.0</td>\n",
       "      <td>3.08</td>\n",
       "      <td>10.44</td>\n",
       "      <td>0.00</td>\n",
       "      <td>10.45</td>\n",
       "      <td>0.0</td>\n",
       "      <td>11.33</td>\n",
       "      <td>...</td>\n",
       "      <td>0</td>\n",
       "      <td>0</td>\n",
       "      <td>1</td>\n",
       "      <td>0</td>\n",
       "      <td>0</td>\n",
       "      <td>0</td>\n",
       "      <td>0</td>\n",
       "      <td>0</td>\n",
       "      <td>0</td>\n",
       "      <td>0</td>\n",
       "    </tr>\n",
       "    <tr>\n",
       "      <th>2771</th>\n",
       "      <td>200687.0</td>\n",
       "      <td>14933.0</td>\n",
       "      <td>4665600.0</td>\n",
       "      <td>70.0</td>\n",
       "      <td>3.00</td>\n",
       "      <td>11.15</td>\n",
       "      <td>0.00</td>\n",
       "      <td>11.36</td>\n",
       "      <td>0.0</td>\n",
       "      <td>11.45</td>\n",
       "      <td>...</td>\n",
       "      <td>0</td>\n",
       "      <td>0</td>\n",
       "      <td>1</td>\n",
       "      <td>0</td>\n",
       "      <td>0</td>\n",
       "      <td>0</td>\n",
       "      <td>0</td>\n",
       "      <td>0</td>\n",
       "      <td>0</td>\n",
       "      <td>0</td>\n",
       "    </tr>\n",
       "  </tbody>\n",
       "</table>\n",
       "<p>2772 rows × 587 columns</p>\n",
       "</div>"
      ],
      "text/plain": [
       "      AreaOccupied_AreaOccupied_nuclei  AreaOccupied_Perimeter_nuclei  \\\n",
       "0                             123349.0                         9792.0   \n",
       "1                             290394.0                        23039.0   \n",
       "2                             226897.0                        18646.0   \n",
       "3                             340560.0                        27192.0   \n",
       "4                             307153.0                        22637.0   \n",
       "...                                ...                            ...   \n",
       "2767                          414858.0                        32265.0   \n",
       "2768                          359899.0                        28419.0   \n",
       "2769                          343592.0                        27446.0   \n",
       "2770                          399083.0                        31948.0   \n",
       "2771                          200687.0                        14933.0   \n",
       "\n",
       "      AreaOccupied_TotalArea_nuclei  Count_nuclei  ExecutionTime_01LoadData  \\\n",
       "0                         4665600.0          50.0                      3.11   \n",
       "1                         4665600.0         120.0                      2.92   \n",
       "2                         4665600.0          99.0                      2.76   \n",
       "3                         4665600.0         143.0                      2.81   \n",
       "4                         4665600.0         104.0                      2.99   \n",
       "...                             ...           ...                       ...   \n",
       "2767                      4665600.0         163.0                      3.10   \n",
       "2768                      4665600.0         140.0                      2.61   \n",
       "2769                      4665600.0         140.0                      2.95   \n",
       "2770                      4665600.0         158.0                      3.08   \n",
       "2771                      4665600.0          70.0                      3.00   \n",
       "\n",
       "      ExecutionTime_02MeasureImageQuality  ExecutionTime_03FlagImage  \\\n",
       "0                                    9.76                       0.00   \n",
       "1                                   10.06                       0.00   \n",
       "2                                   10.02                       0.00   \n",
       "3                                   10.24                       0.00   \n",
       "4                                   10.15                       0.01   \n",
       "...                                   ...                        ...   \n",
       "2767                                10.01                       0.00   \n",
       "2768                                10.71                       0.00   \n",
       "2769                                10.99                       0.00   \n",
       "2770                                10.44                       0.00   \n",
       "2771                                11.15                       0.00   \n",
       "\n",
       "      ExecutionTime_04MeasureImageQuality  ExecutionTime_05FlagImage  \\\n",
       "0                                    9.69                        0.0   \n",
       "1                                   10.29                        0.0   \n",
       "2                                    9.71                        0.0   \n",
       "3                                   11.29                        0.0   \n",
       "4                                   10.02                        0.0   \n",
       "...                                   ...                        ...   \n",
       "2767                                 9.98                        0.0   \n",
       "2768                                11.77                        0.0   \n",
       "2769                                11.16                        0.0   \n",
       "2770                                10.45                        0.0   \n",
       "2771                                11.36                        0.0   \n",
       "\n",
       "      ExecutionTime_06MeasureImageQuality  ...  qc_flag_rawCONC_Blurred  \\\n",
       "0                                   10.61  ...                        0   \n",
       "1                                   11.01  ...                        0   \n",
       "2                                   11.04  ...                        0   \n",
       "3                                   11.10  ...                        0   \n",
       "4                                   10.89  ...                        0   \n",
       "...                                   ...  ...                      ...   \n",
       "2767                                11.40  ...                        0   \n",
       "2768                                11.09  ...                        0   \n",
       "2769                                11.37  ...                        0   \n",
       "2770                                11.33  ...                        0   \n",
       "2771                                11.45  ...                        0   \n",
       "\n",
       "      qc_flag_rawCONC_Saturated  qc_flag_rawHOECHST_Blurry  \\\n",
       "0                             0                          1   \n",
       "1                             0                          1   \n",
       "2                             0                          1   \n",
       "3                             0                          1   \n",
       "4                             0                          1   \n",
       "...                         ...                        ...   \n",
       "2767                          0                          1   \n",
       "2768                          0                          1   \n",
       "2769                          0                          1   \n",
       "2770                          0                          1   \n",
       "2771                          0                          1   \n",
       "\n",
       "      qc_flag_rawHOECHST_Saturated  qc_flag_rawMITO_Blurry  \\\n",
       "0                                0                       0   \n",
       "1                                0                       0   \n",
       "2                                0                       0   \n",
       "3                                0                       0   \n",
       "4                                0                       0   \n",
       "...                            ...                     ...   \n",
       "2767                             0                       0   \n",
       "2768                             0                       0   \n",
       "2769                             0                       0   \n",
       "2770                             0                       0   \n",
       "2771                             0                       0   \n",
       "\n",
       "      qc_flag_rawMITO_Saturated  qc_flag_rawPHAandWGA_Blurry  \\\n",
       "0                             0                            0   \n",
       "1                             0                            0   \n",
       "2                             0                            0   \n",
       "3                             0                            0   \n",
       "4                             0                            0   \n",
       "...                         ...                          ...   \n",
       "2767                          0                            0   \n",
       "2768                          0                            0   \n",
       "2769                          0                            0   \n",
       "2770                          0                            0   \n",
       "2771                          0                            0   \n",
       "\n",
       "      qc_flag_rawPHAandWGA_Saturated  qc_flag_rawSYTO_Blurred  \\\n",
       "0                                  0                        0   \n",
       "1                                  0                        0   \n",
       "2                                  0                        0   \n",
       "3                                  0                        0   \n",
       "4                                  0                        0   \n",
       "...                              ...                      ...   \n",
       "2767                               0                        0   \n",
       "2768                               0                        0   \n",
       "2769                               0                        0   \n",
       "2770                               0                        0   \n",
       "2771                               0                        0   \n",
       "\n",
       "      qc_flag_rawSYTO_Saturated  \n",
       "0                             0  \n",
       "1                             0  \n",
       "2                             0  \n",
       "3                             0  \n",
       "4                             0  \n",
       "...                         ...  \n",
       "2767                          0  \n",
       "2768                          0  \n",
       "2769                          0  \n",
       "2770                          0  \n",
       "2771                          0  \n",
       "\n",
       "[2772 rows x 587 columns]"
      ]
     },
     "execution_count": 8,
     "metadata": {},
     "output_type": "execute_result"
    }
   ],
   "source": [
    "flags"
   ]
  },
  {
   "cell_type": "code",
   "execution_count": 9,
   "metadata": {},
   "outputs": [
    {
     "data": {
      "text/plain": [
       "'specs935-v1-FA-P015076-U2OS-48h-P1-L1_B02_s1_w111BB2DC8-C825-45DA-9AC9-2B61B016957A.tif'"
      ]
     },
     "execution_count": 9,
     "metadata": {},
     "output_type": "execute_result"
    }
   ],
   "source": [
    "flags['FileName_HOECHST'][0]"
   ]
  },
  {
   "cell_type": "code",
   "execution_count": 10,
   "metadata": {},
   "outputs": [],
   "source": [
    "flag_wells = [x.split('L1_')[1][:3] for x in flags['FileName_HOECHST']]\n",
    "flag_wells = sorted(list(set(flag_wells)), key = natural_keys)"
   ]
  },
  {
   "cell_type": "code",
   "execution_count": 11,
   "metadata": {},
   "outputs": [
    {
     "data": {
      "text/plain": [
       "308"
      ]
     },
     "execution_count": 11,
     "metadata": {},
     "output_type": "execute_result"
    }
   ],
   "source": [
    "len(flag_wells)"
   ]
  },
  {
   "cell_type": "code",
   "execution_count": 40,
   "metadata": {},
   "outputs": [
    {
     "data": {
      "text/plain": [
       "0.9585137085137085"
      ]
     },
     "execution_count": 40,
     "metadata": {},
     "output_type": "execute_result"
    }
   ],
   "source": [
    "qc_flags = ['qc_flag_rawCONC_Blurred', 'qc_flag_rawCONC_Saturated', 'qc_flag_rawHOECHST_Blurry', 'qc_flag_rawHOECHST_Saturated', 'qc_flag_rawMITO_Blurry', 'qc_flag_rawMITO_Saturated', 'qc_flag_rawPHAandWGA_Blurry', 'qc_flag_rawPHAandWGA_Saturated', 'qc_flag_rawSYTO_Blurred', 'qc_flag_rawSYTO_Saturated']\n",
    "qc_flag_sum = flags.loc[:,qc_flags].sum(axis=1)\n",
    "qc_flag_any = np.zeros(len(qc_flag_sum))\n",
    "for i in range(len(qc_flag_sum)):\n",
    "    if qc_flag_sum[i] >= 1:\n",
    "        qc_flag_any[i] = 1\n",
    "sum(qc_flag_any) / len(qc_flag_any)"
   ]
  },
  {
   "cell_type": "code",
   "execution_count": 39,
   "metadata": {},
   "outputs": [
    {
     "data": {
      "text/plain": [
       "0.0"
      ]
     },
     "execution_count": 39,
     "metadata": {},
     "output_type": "execute_result"
    }
   ],
   "source": [
    "qc_flags = ['qc_flag_rawCONC_Saturated', 'qc_flag_rawHOECHST_Saturated', 'qc_flag_rawMITO_Saturated', 'qc_flag_rawPHAandWGA_Saturated', 'qc_flag_rawSYTO_Saturated']\n",
    "qc_flag_sum = flags.loc[:,qc_flags].sum(axis=1)\n",
    "qc_flag_any = np.zeros(len(qc_flag_sum))\n",
    "for i in range(len(qc_flag_sum)):\n",
    "    if qc_flag_sum[i] >= 1:\n",
    "        qc_flag_any[i] = 1\n",
    "sum(qc_flag_any) / len(qc_flag_any)"
   ]
  },
  {
   "cell_type": "code",
   "execution_count": 14,
   "metadata": {},
   "outputs": [],
   "source": [
    "qc_folders = pd.read_csv('~/SPECS_phil/data_tables/qc_folders.csv')"
   ]
  },
  {
   "cell_type": "code",
   "execution_count": 15,
   "metadata": {},
   "outputs": [
    {
     "data": {
      "text/html": [
       "<div>\n",
       "<style scoped>\n",
       "    .dataframe tbody tr th:only-of-type {\n",
       "        vertical-align: middle;\n",
       "    }\n",
       "\n",
       "    .dataframe tbody tr th {\n",
       "        vertical-align: top;\n",
       "    }\n",
       "\n",
       "    .dataframe thead th {\n",
       "        text-align: right;\n",
       "    }\n",
       "</style>\n",
       "<table border=\"1\" class=\"dataframe\">\n",
       "  <thead>\n",
       "    <tr style=\"text-align: right;\">\n",
       "      <th></th>\n",
       "      <th>folders</th>\n",
       "    </tr>\n",
       "  </thead>\n",
       "  <tbody>\n",
       "    <tr>\n",
       "      <th>0</th>\n",
       "      <td>specs935-v1-FA-P015076-U2OS-48h-P1-L1</td>\n",
       "    </tr>\n",
       "    <tr>\n",
       "      <th>1</th>\n",
       "      <td>specs935-v1-FA-P015077-U2OS-48h-P1-L2</td>\n",
       "    </tr>\n",
       "    <tr>\n",
       "      <th>2</th>\n",
       "      <td>specs935-v1-FA-P015078-U2OS-48h-P2-L1</td>\n",
       "    </tr>\n",
       "    <tr>\n",
       "      <th>3</th>\n",
       "      <td>specs935-v1-FA-P015079-U2OS-48h-P2-L2</td>\n",
       "    </tr>\n",
       "    <tr>\n",
       "      <th>4</th>\n",
       "      <td>specs935-v1-FA-P015080-U2OS-48h-P3-L1</td>\n",
       "    </tr>\n",
       "    <tr>\n",
       "      <th>5</th>\n",
       "      <td>specs935-v1-FA-P015081-U2OS-48h-P3-L2</td>\n",
       "    </tr>\n",
       "    <tr>\n",
       "      <th>6</th>\n",
       "      <td>specs935-v1-FA-P015082-U2OS-48h-P4-L1</td>\n",
       "    </tr>\n",
       "    <tr>\n",
       "      <th>7</th>\n",
       "      <td>specs935-v1-FA-P015083-U2OS-48h-P4-L2</td>\n",
       "    </tr>\n",
       "    <tr>\n",
       "      <th>8</th>\n",
       "      <td>specs935-v1-FA-P015083-U2OS-48h-P4-L2-test</td>\n",
       "    </tr>\n",
       "    <tr>\n",
       "      <th>9</th>\n",
       "      <td>specs935-v1-FA-P015084-U2OS-48h-P5-L1</td>\n",
       "    </tr>\n",
       "    <tr>\n",
       "      <th>10</th>\n",
       "      <td>specs935-v1-FA-P015086-U2OS-48h-P6-L1</td>\n",
       "    </tr>\n",
       "    <tr>\n",
       "      <th>11</th>\n",
       "      <td>specs935-v1-FA-P015087-U2OS-48h-P6-L2</td>\n",
       "    </tr>\n",
       "    <tr>\n",
       "      <th>12</th>\n",
       "      <td>specs935-v1-FA-P015088-U2OS-48h-P7-L1</td>\n",
       "    </tr>\n",
       "    <tr>\n",
       "      <th>13</th>\n",
       "      <td>specs935-v1-FA-P015089-U2OS-48h-P7-L2</td>\n",
       "    </tr>\n",
       "    <tr>\n",
       "      <th>14</th>\n",
       "      <td>specs935-v1-FA-P015090-U2OS-48h-P8-L1</td>\n",
       "    </tr>\n",
       "    <tr>\n",
       "      <th>15</th>\n",
       "      <td>specs935-v1-FA-P015091-U2OS-48h-P8-L2</td>\n",
       "    </tr>\n",
       "    <tr>\n",
       "      <th>16</th>\n",
       "      <td>specs935-v1-FA-P015092-U2OS-48h-P9-L1</td>\n",
       "    </tr>\n",
       "    <tr>\n",
       "      <th>17</th>\n",
       "      <td>specs935-v1-FA-P015093-U2OS-48h-P9-L2</td>\n",
       "    </tr>\n",
       "    <tr>\n",
       "      <th>18</th>\n",
       "      <td>specs935-v1-FA-P015094-U2OS-48h-P10-L1</td>\n",
       "    </tr>\n",
       "    <tr>\n",
       "      <th>19</th>\n",
       "      <td>specs935-v1-FA-P015095-U2OS-48h-P10-L2</td>\n",
       "    </tr>\n",
       "    <tr>\n",
       "      <th>20</th>\n",
       "      <td>specs935-v1-FA-P015096-U2OS-48h-P11-L1</td>\n",
       "    </tr>\n",
       "    <tr>\n",
       "      <th>21</th>\n",
       "      <td>specs935-v1-FA-P015097-U2OS-48h-P11-L2</td>\n",
       "    </tr>\n",
       "    <tr>\n",
       "      <th>22</th>\n",
       "      <td>specs935-v1-FA-P015098-U2OS-48h-P12-L1</td>\n",
       "    </tr>\n",
       "    <tr>\n",
       "      <th>23</th>\n",
       "      <td>specs935-v1-FA-P015099-U2OS-48h-P12-L2</td>\n",
       "    </tr>\n",
       "  </tbody>\n",
       "</table>\n",
       "</div>"
      ],
      "text/plain": [
       "                                       folders\n",
       "0        specs935-v1-FA-P015076-U2OS-48h-P1-L1\n",
       "1        specs935-v1-FA-P015077-U2OS-48h-P1-L2\n",
       "2        specs935-v1-FA-P015078-U2OS-48h-P2-L1\n",
       "3        specs935-v1-FA-P015079-U2OS-48h-P2-L2\n",
       "4        specs935-v1-FA-P015080-U2OS-48h-P3-L1\n",
       "5        specs935-v1-FA-P015081-U2OS-48h-P3-L2\n",
       "6        specs935-v1-FA-P015082-U2OS-48h-P4-L1\n",
       "7        specs935-v1-FA-P015083-U2OS-48h-P4-L2\n",
       "8   specs935-v1-FA-P015083-U2OS-48h-P4-L2-test\n",
       "9        specs935-v1-FA-P015084-U2OS-48h-P5-L1\n",
       "10       specs935-v1-FA-P015086-U2OS-48h-P6-L1\n",
       "11       specs935-v1-FA-P015087-U2OS-48h-P6-L2\n",
       "12       specs935-v1-FA-P015088-U2OS-48h-P7-L1\n",
       "13       specs935-v1-FA-P015089-U2OS-48h-P7-L2\n",
       "14       specs935-v1-FA-P015090-U2OS-48h-P8-L1\n",
       "15       specs935-v1-FA-P015091-U2OS-48h-P8-L2\n",
       "16       specs935-v1-FA-P015092-U2OS-48h-P9-L1\n",
       "17       specs935-v1-FA-P015093-U2OS-48h-P9-L2\n",
       "18      specs935-v1-FA-P015094-U2OS-48h-P10-L1\n",
       "19      specs935-v1-FA-P015095-U2OS-48h-P10-L2\n",
       "20      specs935-v1-FA-P015096-U2OS-48h-P11-L1\n",
       "21      specs935-v1-FA-P015097-U2OS-48h-P11-L2\n",
       "22      specs935-v1-FA-P015098-U2OS-48h-P12-L1\n",
       "23      specs935-v1-FA-P015099-U2OS-48h-P12-L2"
      ]
     },
     "execution_count": 15,
     "metadata": {},
     "output_type": "execute_result"
    }
   ],
   "source": [
    "qc_folders"
   ]
  },
  {
   "cell_type": "code",
   "execution_count": 16,
   "metadata": {},
   "outputs": [],
   "source": [
    "temp = flags.loc[:,qc_flags].sum(axis=1)"
   ]
  },
  {
   "cell_type": "code",
   "execution_count": 17,
   "metadata": {},
   "outputs": [
    {
     "data": {
      "text/plain": [
       "2772"
      ]
     },
     "execution_count": 17,
     "metadata": {},
     "output_type": "execute_result"
    }
   ],
   "source": [
    "len(temp)"
   ]
  },
  {
   "cell_type": "code",
   "execution_count": 18,
   "metadata": {},
   "outputs": [
    {
     "data": {
      "text/plain": [
       "'/cpp-work/results/specs935-v1-FA-P015076-U2OS-48h-P1-L1/1320/900/'"
      ]
     },
     "execution_count": 18,
     "metadata": {},
     "output_type": "execute_result"
    }
   ],
   "source": [
    "root"
   ]
  },
  {
   "cell_type": "code",
   "execution_count": 22,
   "metadata": {},
   "outputs": [],
   "source": [
    "root = '/cpp-work/results/'\n",
    "paths = [root + i for i in qc_folders['folders']]"
   ]
  },
  {
   "cell_type": "code",
   "execution_count": 23,
   "metadata": {},
   "outputs": [
    {
     "data": {
      "text/plain": [
       "['/cpp-work/results/specs935-v1-FA-P015076-U2OS-48h-P1-L1',\n",
       " '/cpp-work/results/specs935-v1-FA-P015077-U2OS-48h-P1-L2',\n",
       " '/cpp-work/results/specs935-v1-FA-P015078-U2OS-48h-P2-L1',\n",
       " '/cpp-work/results/specs935-v1-FA-P015079-U2OS-48h-P2-L2',\n",
       " '/cpp-work/results/specs935-v1-FA-P015080-U2OS-48h-P3-L1',\n",
       " '/cpp-work/results/specs935-v1-FA-P015081-U2OS-48h-P3-L2',\n",
       " '/cpp-work/results/specs935-v1-FA-P015082-U2OS-48h-P4-L1',\n",
       " '/cpp-work/results/specs935-v1-FA-P015083-U2OS-48h-P4-L2',\n",
       " '/cpp-work/results/specs935-v1-FA-P015083-U2OS-48h-P4-L2-test',\n",
       " '/cpp-work/results/specs935-v1-FA-P015084-U2OS-48h-P5-L1',\n",
       " '/cpp-work/results/specs935-v1-FA-P015086-U2OS-48h-P6-L1',\n",
       " '/cpp-work/results/specs935-v1-FA-P015087-U2OS-48h-P6-L2',\n",
       " '/cpp-work/results/specs935-v1-FA-P015088-U2OS-48h-P7-L1',\n",
       " '/cpp-work/results/specs935-v1-FA-P015089-U2OS-48h-P7-L2',\n",
       " '/cpp-work/results/specs935-v1-FA-P015090-U2OS-48h-P8-L1',\n",
       " '/cpp-work/results/specs935-v1-FA-P015091-U2OS-48h-P8-L2',\n",
       " '/cpp-work/results/specs935-v1-FA-P015092-U2OS-48h-P9-L1',\n",
       " '/cpp-work/results/specs935-v1-FA-P015093-U2OS-48h-P9-L2',\n",
       " '/cpp-work/results/specs935-v1-FA-P015094-U2OS-48h-P10-L1',\n",
       " '/cpp-work/results/specs935-v1-FA-P015095-U2OS-48h-P10-L2',\n",
       " '/cpp-work/results/specs935-v1-FA-P015096-U2OS-48h-P11-L1',\n",
       " '/cpp-work/results/specs935-v1-FA-P015097-U2OS-48h-P11-L2',\n",
       " '/cpp-work/results/specs935-v1-FA-P015098-U2OS-48h-P12-L1',\n",
       " '/cpp-work/results/specs935-v1-FA-P015099-U2OS-48h-P12-L2']"
      ]
     },
     "execution_count": 23,
     "metadata": {},
     "output_type": "execute_result"
    }
   ],
   "source": [
    "paths"
   ]
  },
  {
   "cell_type": "code",
   "execution_count": 50,
   "metadata": {},
   "outputs": [],
   "source": [
    "qc_flagged = []\n",
    "for path in paths:\n",
    "    folder = sorted(glob.glob(path + '/*/*'))[-1]\n",
    "    file = glob.glob(folder + '/*' + 'images' + '*.csv')\n",
    "    flags = pd.read_csv(file[0])\n",
    "    qc_flags = ['qc_flag_rawCONC_Saturated', 'qc_flag_rawHOECHST_Saturated', 'qc_flag_rawMITO_Saturated', \n",
    "                'qc_flag_rawPHAandWGA_Saturated', 'qc_flag_rawSYTO_Saturated']\n",
    "    qc_flag_sum = flags.loc[:,qc_flags].sum(axis=1)\n",
    "    for i in range(len(qc_flag_sum)):\n",
    "        if qc_flag_sum[i] > 0:\n",
    "            qc_flagged.append(flags['FileName_HOECHST'][i])\n",
    "    \n",
    "    "
   ]
  },
  {
   "cell_type": "code",
   "execution_count": 51,
   "metadata": {},
   "outputs": [
    {
     "data": {
      "text/plain": [
       "[]"
      ]
     },
     "execution_count": 51,
     "metadata": {},
     "output_type": "execute_result"
    }
   ],
   "source": [
    "qc_flagged"
   ]
  },
  {
   "cell_type": "code",
   "execution_count": 33,
   "metadata": {},
   "outputs": [
    {
     "data": {
      "text/plain": [
       "'/cpp-work/results/specs935-v1-FA-P015099-U2OS-48h-P12-L2/1347/893/qcRAW_images_specs935-v1-FA-P015099-U2OS-48h-P12-L2.csv'"
      ]
     },
     "execution_count": 33,
     "metadata": {},
     "output_type": "execute_result"
    }
   ],
   "source": [
    "file[0]"
   ]
  },
  {
   "cell_type": "code",
   "execution_count": null,
   "metadata": {},
   "outputs": [],
   "source": [
    "flag"
   ]
  },
  {
   "cell_type": "code",
   "execution_count": 41,
   "metadata": {},
   "outputs": [
    {
     "data": {
      "text/plain": [
       "[]"
      ]
     },
     "execution_count": 41,
     "metadata": {},
     "output_type": "execute_result"
    }
   ],
   "source": [
    "qc_flagged"
   ]
  },
  {
   "cell_type": "code",
   "execution_count": 44,
   "metadata": {},
   "outputs": [],
   "source": [
    "qc_flagged.append('p')"
   ]
  },
  {
   "cell_type": "code",
   "execution_count": 45,
   "metadata": {},
   "outputs": [
    {
     "data": {
      "text/plain": [
       "['p', 'p']"
      ]
     },
     "execution_count": 45,
     "metadata": {},
     "output_type": "execute_result"
    }
   ],
   "source": [
    "qc_flagged"
   ]
  },
  {
   "cell_type": "code",
   "execution_count": null,
   "metadata": {},
   "outputs": [],
   "source": []
  },
  {
   "cell_type": "code",
   "execution_count": null,
   "metadata": {},
   "outputs": [],
   "source": []
  },
  {
   "cell_type": "code",
   "execution_count": null,
   "metadata": {},
   "outputs": [],
   "source": []
  },
  {
   "cell_type": "code",
   "execution_count": null,
   "metadata": {},
   "outputs": [],
   "source": []
  }
 ],
 "metadata": {
  "kernelspec": {
   "display_name": "Python 3",
   "language": "python",
   "name": "python3"
  },
  "language_info": {
   "codemirror_mode": {
    "name": "ipython",
    "version": 3
   },
   "file_extension": ".py",
   "mimetype": "text/x-python",
   "name": "python",
   "nbconvert_exporter": "python",
   "pygments_lexer": "ipython3",
   "version": "3.6.9"
  }
 },
 "nbformat": 4,
 "nbformat_minor": 4
}
