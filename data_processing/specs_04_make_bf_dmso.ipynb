{
 "cells": [
  {
   "cell_type": "code",
   "execution_count": 1,
   "metadata": {},
   "outputs": [],
   "source": [
    "import pandas as pd\n",
    "import numpy as np\n",
    "import cv2\n",
    "import glob\n",
    "import tqdm\n",
    "import os"
   ]
  },
  {
   "cell_type": "code",
   "execution_count": 2,
   "metadata": {},
   "outputs": [],
   "source": [
    "known_plates = ['P015076', 'P015077', 'P015080', 'P015081', 'P015082', 'P015083',\n",
    "                'P015084', 'P015085', 'P015090', 'P015091', 'P015092', 'P015093',\n",
    "                'P015094', 'P015095', 'P015096', 'P015097', 'P015098', 'P015099']"
   ]
  },
  {
   "cell_type": "code",
   "execution_count": 3,
   "metadata": {},
   "outputs": [],
   "source": [
    "fcsv_path = '/scratch-shared/phil/SPECS_phil/exp_stats/dmso_main.csv'\n",
    "df = pd.read_csv(fcsv_path)"
   ]
  },
  {
   "cell_type": "code",
   "execution_count": 4,
   "metadata": {},
   "outputs": [],
   "source": [
    "df = df[df.plate.isin(known_plates)]"
   ]
  },
  {
   "cell_type": "code",
   "execution_count": 5,
   "metadata": {},
   "outputs": [
    {
     "data": {
      "text/plain": [
       "P015080    198\n",
       "P015093    198\n",
       "P015090    198\n",
       "P015092    198\n",
       "P015082    198\n",
       "P015097    198\n",
       "P015098    198\n",
       "P015094    198\n",
       "P015095    198\n",
       "P015076    198\n",
       "P015091    198\n",
       "P015099    198\n",
       "P015083    198\n",
       "P015084    198\n",
       "P015096    198\n",
       "P015085    198\n",
       "P015077    198\n",
       "P015081    198\n",
       "Name: plate, dtype: int64"
      ]
     },
     "execution_count": 5,
     "metadata": {},
     "output_type": "execute_result"
    }
   ],
   "source": [
    "df.plate.value_counts()"
   ]
  },
  {
   "cell_type": "code",
   "execution_count": 6,
   "metadata": {},
   "outputs": [],
   "source": [
    "fold = glob.glob('/mnt/micro-images-pvc/jonne' + '/specs935*')\n",
    "folds = []\n",
    "for i in range(len(known_plates)):\n",
    "    f = [x for x in fold if known_plates[i] in x][-1]\n",
    "    folds.append(f)"
   ]
  },
  {
   "cell_type": "code",
   "execution_count": 7,
   "metadata": {},
   "outputs": [
    {
     "data": {
      "text/plain": [
       "['/mnt/micro-images-pvc/jonne/specs935-v1-FA-P015076-U2OS-48h-P1-L1-TL',\n",
       " '/mnt/micro-images-pvc/jonne/specs935-v1-FA-P015077-U2OS-48h-P1-L2-TL',\n",
       " '/mnt/micro-images-pvc/jonne/specs935-v1-FA-P015080-U2OS-48h-P3-L1-TL-run2',\n",
       " '/mnt/micro-images-pvc/jonne/specs935-v1-FA-P015081-U2OS-48h-P3-L2-TL',\n",
       " '/mnt/micro-images-pvc/jonne/specs935-v1-FA-P015082-U2OS-48h-P4-L1-TL',\n",
       " '/mnt/micro-images-pvc/jonne/specs935-v1-FA-P015083-U2OS-48h-P4-L2-TL',\n",
       " '/mnt/micro-images-pvc/jonne/specs935-v1-FA-P015084-U2OS-48h-P5-L1-TL',\n",
       " '/mnt/micro-images-pvc/jonne/specs935-v1-FA-P015085-U2OS-48h-P5-L2-TL',\n",
       " '/mnt/micro-images-pvc/jonne/specs935-v1-FA-P015090-U2OS-48h-P8-L1-TL',\n",
       " '/mnt/micro-images-pvc/jonne/specs935-v1-FA-P015091-U2OS-48h-P8-L2-TL',\n",
       " '/mnt/micro-images-pvc/jonne/specs935-v1-FA-P015092-U2OS-48h-P9-L1-TL-run2',\n",
       " '/mnt/micro-images-pvc/jonne/specs935-v1-FA-P015093-U2OS-48h-P9-L2-TL-run2',\n",
       " '/mnt/micro-images-pvc/jonne/specs935-v1-FA-P015094-U2OS-48h-P10-L1-TL-run2',\n",
       " '/mnt/micro-images-pvc/jonne/specs935-v1-FA-P015095-U2OS-48h-P10-L2-TL-run2',\n",
       " '/mnt/micro-images-pvc/jonne/specs935-v1-FA-P015096-U2OS-48h-P11-L1-TL',\n",
       " '/mnt/micro-images-pvc/jonne/specs935-v1-FA-P015097-U2OS-48h-P11-L2-TL-run2',\n",
       " '/mnt/micro-images-pvc/jonne/specs935-v1-FA-P015098-U2OS-48h-P12-L1-TL-run2',\n",
       " '/mnt/micro-images-pvc/jonne/specs935-v1-FA-P015099-U2OS-48h-P12-L2-TL']"
      ]
     },
     "execution_count": 7,
     "metadata": {},
     "output_type": "execute_result"
    }
   ],
   "source": [
    "folds"
   ]
  },
  {
   "cell_type": "code",
   "execution_count": 8,
   "metadata": {},
   "outputs": [
    {
     "name": "stderr",
     "output_type": "stream",
     "text": [
      "100%|██████████| 22/22 [00:00<00:00, 40.37it/s]\n",
      "100%|██████████| 22/22 [00:00<00:00, 39.49it/s]\n",
      "100%|██████████| 22/22 [00:00<00:00, 40.89it/s]\n",
      "100%|██████████| 22/22 [00:00<00:00, 40.71it/s]\n",
      "100%|██████████| 22/22 [00:00<00:00, 40.77it/s]\n",
      "100%|██████████| 22/22 [00:00<00:00, 40.20it/s]\n",
      "100%|██████████| 22/22 [00:00<00:00, 40.96it/s]\n",
      "100%|██████████| 22/22 [00:00<00:00, 39.80it/s]\n",
      "100%|██████████| 22/22 [00:00<00:00, 40.12it/s]\n",
      "100%|██████████| 22/22 [00:00<00:00, 39.76it/s]\n",
      "100%|██████████| 22/22 [00:00<00:00, 40.73it/s]\n",
      "100%|██████████| 22/22 [00:00<00:00, 39.75it/s]\n",
      "100%|██████████| 22/22 [00:00<00:00, 39.83it/s]\n",
      "100%|██████████| 22/22 [00:00<00:00, 40.22it/s]\n",
      "100%|██████████| 22/22 [00:00<00:00, 38.05it/s]\n",
      "100%|██████████| 22/22 [00:00<00:00, 39.83it/s]\n",
      "100%|██████████| 22/22 [00:00<00:00, 38.18it/s]\n",
      "100%|██████████| 22/22 [00:00<00:00, 39.11it/s]\n"
     ]
    }
   ],
   "source": [
    "columns = ['plate', 'well', 'path', 'nuclei', 'C1', 'C2', 'C3', 'C4', 'C5', 'C6']\n",
    "bf_df = pd.DataFrame(columns=columns)\n",
    "\n",
    "for file_idx in range(len(known_plates)):\n",
    "    files = glob.glob(sorted(glob.glob(folds[file_idx] + '/*/*'))[-1] + '/*.tif')\n",
    "    files = sorted([x for x in files if '_thumb' not in x])\n",
    "    \n",
    "    if '-run2' in folds[file_idx] and os.path.exists(folds[file_idx].replace('-run2','')):\n",
    "        files2 = glob.glob(sorted(glob.glob(folds[file_idx].replace('-run2','') + '/*/*'))[-1] + '/*.tif')\n",
    "        files2 = sorted([x for x in files2 if '_thumb' not in x])\n",
    "        \n",
    "        files = np.concatenate((files,files2))\n",
    "        files = sorted(files)\n",
    "        \n",
    "    d = df[df.plate == known_plates[file_idx]]\n",
    "    \n",
    "    for well in tqdm.tqdm(sorted(d.well.unique())):\n",
    "        image_files = [x for x in files if '_' + well + '_' in x]\n",
    "        for site in ['s1','s2', 's3', 's4', 's5']:\n",
    "            row_files = sorted([x for x in image_files if '_' + site + '_' in x])\n",
    "            \n",
    "            path = '/' + np.unique([os.path.join(*x.split('/')[:-1]) for x in row_files])[0]\n",
    "            \n",
    "            row = {'plate':known_plates[file_idx], 'well':well, \n",
    "                   'path':path, 'nuclei':[x for x in row_files if '_w1' in x and path in x][0].split('/')[-1], 'C1':[x for x in row_files if '_w2' in x and path in x][0].split('/')[-1], \n",
    "                   'C2':[x for x in row_files if '_w3' in x and path in x][0].split('/')[-1], 'C3':[x for x in row_files if '_w4' in x and path in x][0].split('/')[-1], 'C4':[x for x in row_files if '_w5' in x and path in x][0].split('/')[-1], \n",
    "                   'C5':[x for x in row_files if '_w6' in x and path in x][0].split('/')[-1], 'C6':[x for x in row_files if '_w7' in x and path in x][0].split('/')[-1]}\n",
    "            \n",
    "            bf_df = bf_df.append(row, ignore_index = True)"
   ]
  },
  {
   "cell_type": "code",
   "execution_count": 9,
   "metadata": {},
   "outputs": [],
   "source": [
    "bf_df.to_csv('/scratch-shared/phil/SPECS_phil/exp_stats/bf_dmso_main.csv', index=False)"
   ]
  },
  {
   "cell_type": "code",
   "execution_count": 10,
   "metadata": {},
   "outputs": [],
   "source": [
    "#csv_path = '/scratch-shared/phil/SPECS_phil/exp_stats/bf_main.csv'\n",
    "#dmso_csv_path = '/scratch-shared/phil/SPECS_phil/exp_stats/bf_dmso_main.csv'\n",
    "#df = pd.read_csv(csv_path)"
   ]
  },
  {
   "cell_type": "code",
   "execution_count": 11,
   "metadata": {},
   "outputs": [],
   "source": [
    "#df[df.moa.isin(moas)].moa.value_counts()"
   ]
  },
  {
   "cell_type": "code",
   "execution_count": null,
   "metadata": {},
   "outputs": [],
   "source": []
  }
 ],
 "metadata": {
  "kernelspec": {
   "display_name": "Python 3",
   "language": "python",
   "name": "python3"
  },
  "language_info": {
   "codemirror_mode": {
    "name": "ipython",
    "version": 3
   },
   "file_extension": ".py",
   "mimetype": "text/x-python",
   "name": "python",
   "nbconvert_exporter": "python",
   "pygments_lexer": "ipython3",
   "version": "3.6.9"
  }
 },
 "nbformat": 4,
 "nbformat_minor": 4
}
