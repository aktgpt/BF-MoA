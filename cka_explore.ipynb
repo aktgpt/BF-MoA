{
 "cells": [
  {
   "cell_type": "code",
   "execution_count": 3,
   "metadata": {},
   "outputs": [],
   "source": [
    "import torch\n",
    "import glob\n",
    "import json\n",
    "import os\n",
    "\n",
    "import pandas as pd\n",
    "import torch\n",
    "import numpy as np\n"
   ]
  },
  {
   "cell_type": "code",
   "execution_count": 7,
   "metadata": {},
   "outputs": [
    {
     "name": "stdout",
     "output_type": "stream",
     "text": [
      "['/proj/haste_berzelius/exps/specs_non_grit_based/bf_exps_1_split1', '/proj/haste_berzelius/exps/specs_non_grit_based/bf_exps_1_split2', '/proj/haste_berzelius/exps/specs_non_grit_based/bf_exps_1_split3', '/proj/haste_berzelius/exps/specs_non_grit_based/bf_exps_1_split4', '/proj/haste_berzelius/exps/specs_non_grit_based/bf_exps_1_split5'] ['/proj/haste_berzelius/exps/specs_non_grit_based/fl_exps_1_split1', '/proj/haste_berzelius/exps/specs_non_grit_based/fl_exps_1_split2', '/proj/haste_berzelius/exps/specs_non_grit_based/fl_exps_1_split3', '/proj/haste_berzelius/exps/specs_non_grit_based/fl_exps_1_split4', '/proj/haste_berzelius/exps/specs_non_grit_based/fl_exps_1_split5']\n"
     ]
    }
   ],
   "source": [
    "\n",
    "bf_folders = sorted(glob.glob(\"/proj/haste_berzelius/exps/specs_non_grit_based/*bf*\"))[:5]\n",
    "fl_folders = sorted(glob.glob(\"/proj/haste_berzelius/exps/specs_non_grit_based/*fl*\"))\n",
    "print(bf_folders, fl_folders)"
   ]
  },
  {
   "cell_type": "code",
   "execution_count": 74,
   "metadata": {},
   "outputs": [
    {
     "name": "stdout",
     "output_type": "stream",
     "text": [
      "    split mode1                  mode2  linear_cka  rkernel_cka\n",
      "0       1    fl                     bf    0.374020     0.470067\n",
      "1       1    fl                 cp_all    0.247485     0.334978\n",
      "2       1    fl           cp_AreaShape    0.168469     0.258229\n",
      "3       1    fl         cp_Correlation    0.252894     0.359747\n",
      "4       1    fl         cp_Granularity    0.221514     0.309515\n",
      "..    ...   ...                    ...         ...          ...\n",
      "70      5    bf         cp_Correlation    0.267929     0.406174\n",
      "71      5    bf         cp_Granularity    0.252181     0.411151\n",
      "72      5    bf           cp_Intensity    0.204782     0.361768\n",
      "73      5    bf           cp_Neighbors    0.343397     0.391400\n",
      "74      5    bf  cp_RadialDistribution    0.203854     0.384160\n",
      "\n",
      "[75 rows x 5 columns]\n"
     ]
    }
   ],
   "source": [
    "from sklearn import preprocessing\n",
    "from utils.cka.cka_features import CKA\n",
    "from sklearn.impute import SimpleImputer\n",
    "\n",
    "cp_df_cell = pd.read_csv(\"stats/non_grit_based/CP_features_cells.csv\")\n",
    "feature_groups = ['AreaShape', 'Correlation', 'Granularity', 'Intensity', 'Neighbors', 'RadialDistribution']\n",
    "\n",
    "fv_columns = [f\"fv_{i}\" for i in range(2048)]\n",
    "\n",
    "site_conversion = pd.DataFrame(\n",
    "    {\"bf_sites\": [\"s1\", \"s2\", \"s3\", \"s4\", \"s5\"], \"f_sites\": [\"s2\", \"s4\", \"s5\", \"s6\", \"s8\"]}\n",
    ")\n",
    "\n",
    "cka_dict_list = []\n",
    "\n",
    "for i, (bf_folder, fl_folder) in enumerate(zip(bf_folders, fl_folders)):\n",
    "    fl_exp_folder = os.path.join(fl_folder, \"fl_11cls_basic_aug_dmso_norm_750e_sgd/ResNet_resnet50/\")\n",
    "    fl_df = pd.read_csv(os.path.join(fl_exp_folder, \"feature_data_test.csv\"))\n",
    "    \n",
    "    bf_exp_folder = os.path.join(bf_folder, \"bf_11cls_basic_aug_dmsonorm_750e_sgd/ResNet_resnet50/\")\n",
    "    bf_df = pd.read_csv(os.path.join(bf_exp_folder, \"feature_data_test.csv\"))\n",
    "    bf_df[\"site\"] = bf_df[\"site\"].map(site_conversion.set_index(\"bf_sites\")[\"f_sites\"])\n",
    "\n",
    "    fl_bf_merge = pd.merge(fl_df, bf_df, on=[\"plate\", \"well\", \"compound\", \"site\"], suffixes=(\"_fl\", \"_bf\"))\n",
    "\n",
    "    bf_columns = [f\"fv_{i}_bf\" for i in range(2048)]\n",
    "    bf_features = fl_bf_merge[bf_columns].values\n",
    "    bf_features = preprocessing.StandardScaler().fit_transform(bf_features)\n",
    "\n",
    "    fl_columns = [f\"fv_{i}_fl\" for i in range(2048)]\n",
    "    fl_features = fl_bf_merge[fl_columns].values\n",
    "    fl_features = preprocessing.StandardScaler().fit_transform(fl_features)\n",
    "\n",
    "    cka = CKA()\n",
    "    linear_cka = cka.linear_CKA(fl_features, bf_features)\n",
    "    kernel_cka = cka.kernel_CKA(fl_features, bf_features)\n",
    "    # print(f\"Split {i+1}: FL vs BF :Linear CKA: {linear_cka:3f}, Kernel CKA: {kernel_cka:3f}\")\n",
    "    # cka_dict[f\"split_{i+1}\"] = {\"mode1\": \"fl\", \"mode2\": \"bf\", \"linear\": linear_cka, \"kernel\": kernel_cka}\n",
    "    cka_dict_list.append({\"split\": i+1, \"mode1\": \"fl\", \"mode2\": \"bf\", \"linear_cka\": linear_cka, \"rkernel_cka\": kernel_cka})\n",
    "\n",
    "    fl_cp_df = pd.merge(fl_df, cp_df_cell, on=[\"plate\", \"well\", \"site\", \"compound\"])\n",
    "    cp_all_features = fl_cp_df[cp_df_cell.columns[6:]].values\n",
    "    cp_all_features = SimpleImputer(missing_values=np.nan, strategy='mean').fit_transform(cp_all_features)   \n",
    "    cp_all_features = preprocessing.StandardScaler().fit_transform(cp_all_features)\n",
    "\n",
    "    fl_features = fl_cp_df[fv_columns].values\n",
    "    fl_features = preprocessing.StandardScaler().fit_transform(fl_features)\n",
    "\n",
    "    cka = CKA()\n",
    "    linear_cka = cka.linear_CKA(cp_all_features, fl_features)\n",
    "    kernel_cka = cka.kernel_CKA(cp_all_features, fl_features)\n",
    "    # print(f\"Split {i+1}: FL vs CP Overall: Linear CKA: {linear_cka:3f}, Kernel CKA: {kernel_cka:3f}\")\n",
    "    # cka_dict[f\"split_{i+1}\"] = {\"mode1\": \"fl\", \"mode2\": \"cp_all\", \"linear\": linear_cka, \"kernel\": kernel_cka}\n",
    "    cka_dict_list.append({\"split\": i+1, \"mode1\": \"fl\", \"mode2\": \"cp_all\", \"linear_cka\": linear_cka, \"rkernel_cka\": kernel_cka})\n",
    "    for feature_group in feature_groups:\n",
    "        cp_group_columns = [col for col in fl_cp_df.columns if feature_group in col]\n",
    "        cp_group_features = fl_cp_df[cp_group_columns].values\n",
    "        cp_group_features = SimpleImputer(missing_values=np.nan, strategy='mean').fit_transform(cp_group_features)\n",
    "        cp_group_features = preprocessing.StandardScaler().fit_transform(cp_group_features)\n",
    "\n",
    "        cka = CKA()\n",
    "        linear_cka = cka.linear_CKA(cp_group_features, fl_features)\n",
    "        kernel_cka = cka.kernel_CKA(cp_group_features, fl_features)\n",
    "        # print(f\"Split {i+1}: FL vs CP {feature_group}: Linear CKA: {linear_cka:3f}, Kernel CKA: {kernel_cka:3f}\")\n",
    "        # cka_dict[f\"split_{i+1}\"] = {\"mode1\": \"fl\", \"mode2\": f\"cp_{feature_group}\", \"linear\": linear_cka, \"kernel\": kernel_cka}\n",
    "        cka_dict_list.append({\"split\": i+1, \"mode1\": \"fl\", \"mode2\": f\"cp_{feature_group}\", \"linear_cka\": linear_cka, \"rkernel_cka\": kernel_cka})\n",
    "    bf_cp_df = pd.merge(bf_df, cp_df_cell, on=[\"plate\", \"well\", \"site\", \"compound\"])\n",
    "    cp_all_features = bf_cp_df[cp_df_cell.columns[6:]].values\n",
    "    cp_all_features = SimpleImputer(missing_values=np.nan, strategy='mean').fit_transform(cp_all_features)\n",
    "    cp_all_features = preprocessing.StandardScaler().fit_transform(cp_all_features)\n",
    "\n",
    "    bf_features = bf_cp_df[fv_columns].values\n",
    "    bf_features = preprocessing.StandardScaler().fit_transform(bf_features)\n",
    "\n",
    "    cka = CKA()\n",
    "    linear_cka = cka.linear_CKA(cp_all_features, bf_features)\n",
    "    kernel_cka = cka.kernel_CKA(cp_all_features, bf_features)\n",
    "    # print(f\"Split {i+1}: BF vs CP Overall: Linear CKA: {linear_cka:3f}, Kernel CKA: {kernel_cka:3f}\")\n",
    "    # cka_dict[f\"split_{i+1}\"] = {\"mode1\": \"bf\", \"mode2\": \"cp_all\", \"linear\": linear_cka, \"kernel\": kernel_cka}\n",
    "    cka_dict_list.append({\"split\": i+1, \"mode1\": \"bf\", \"mode2\": \"cp_all\", \"linear_cka\": linear_cka, \"rkernel_cka\": kernel_cka})\n",
    "    for feature_group in feature_groups:\n",
    "        cp_group_columns = [col for col in bf_cp_df.columns if feature_group in col]\n",
    "        cp_group_features = bf_cp_df[cp_group_columns].values\n",
    "        cp_group_features = SimpleImputer(missing_values=np.nan, strategy='mean').fit_transform(cp_group_features)\n",
    "        cp_group_features = preprocessing.StandardScaler().fit_transform(cp_group_features)\n",
    "\n",
    "        cka = CKA()\n",
    "        linear_cka = cka.linear_CKA(cp_group_features, bf_features)\n",
    "        kernel_cka = cka.kernel_CKA(cp_group_features, bf_features)\n",
    "        # print(f\"Split {i+1}: BF vs CP {feature_group}: Linear CKA: {linear_cka:3f}, Kernel CKA: {kernel_cka:3f}\")\n",
    "        # cka_dict[f\"split_{i+1}\"] = {\"mode1\": \"bf\", \"mode2\": f\"cp_{feature_group}\", \"linear\": linear_cka, \"kernel\": kernel_cka}\n",
    "        cka_dict_list.append({\"split\": i+1, \"mode1\": \"bf\", \"mode2\": f\"cp_{feature_group}\", \"linear_cka\": linear_cka, \"rkernel_cka\": kernel_cka})\n",
    "\n",
    "cka_df = pd.DataFrame(cka_dict_list, columns=[\"split\", \"mode1\", \"mode2\", \"linear_cka\", \"rkernel_cka\"])\n",
    "# cka_df = pd.DataFrame(cka_dict).T\n",
    "print(cka_df)\n"
   ]
  },
  {
   "cell_type": "code",
   "execution_count": 76,
   "metadata": {},
   "outputs": [],
   "source": [
    "cka_df.to_csv(\"cka_df.csv\", index=False)\n"
   ]
  },
  {
   "cell_type": "code",
   "execution_count": 47,
   "metadata": {},
   "outputs": [
    {
     "name": "stdout",
     "output_type": "stream",
     "text": [
      "0.3130609035422896 0.4327822092817944\n"
     ]
    }
   ],
   "source": [
    "from sklearn.impute import SimpleImputer\n",
    "cp_df_cell = pd.read_csv(\"stats/non_grit_based/CP_features_cells.csv\")\n",
    "cp_df_cell.head()\n",
    "\n",
    "x = pd.merge(cp_df_cell, fl_df, on=[\"plate\", \"well\", \"site\", \"compound\"])\n",
    "x.head()\n",
    "fl_features = preprocessing.StandardScaler().fit_transform(x[fl_columns].values)  \n",
    "cp_features = preprocessing.StandardScaler().fit_transform(SimpleImputer(missing_values=np.nan, strategy='mean').fit_transform(x[cp_df_cell.columns[6:]].values))   \n",
    "linear_cka = cka.linear_CKA(cp_features, fl_features)\n",
    "kernel_cka = cka.kernel_CKA(cp_features, fl_features)\n",
    "print(linear_cka, kernel_cka)"
   ]
  },
  {
   "cell_type": "code",
   "execution_count": 48,
   "metadata": {},
   "outputs": [
    {
     "name": "stdout",
     "output_type": "stream",
     "text": [
      "0.32074577766791257 0.5312861691513319\n"
     ]
    }
   ],
   "source": [
    "x = pd.merge(cp_df_cell, bf_df, on=[\"plate\", \"well\", \"site\", \"compound\"])\n",
    "x.head()\n",
    "bf_features = preprocessing.StandardScaler().fit_transform(x[bf_columns].values)  \n",
    "cp_features = preprocessing.StandardScaler().fit_transform(SimpleImputer(missing_values=np.nan, strategy='mean').fit_transform(x[cp_df_cell.columns[6:]].values))   \n",
    "linear_cka = cka.linear_CKA(cp_features, bf_features)\n",
    "kernel_cka = cka.kernel_CKA(cp_features, bf_features)\n",
    "print(linear_cka, kernel_cka)"
   ]
  },
  {
   "cell_type": "code",
   "execution_count": 55,
   "metadata": {},
   "outputs": [
    {
     "name": "stdout",
     "output_type": "stream",
     "text": [
      "Overall 0.32074577766791257 0.5312861691513319\n",
      "AreaShape 0.21452502655963746 0.4252961088318483\n",
      "Correlation 0.32589881732014125 0.5002984544429935\n",
      "Granularity 0.2937203549788155 0.5082503450563838\n",
      "Intensity 0.23312933536660416 0.45004064467799487\n",
      "Neighbors 0.39817254534097063 0.4785261225206233\n",
      "RadialDistribution 0.23665023800461593 0.46678059689676116\n"
     ]
    }
   ],
   "source": [
    "feature_groups = ['AreaShape', 'Correlation', 'Granularity', 'Intensity', 'Neighbors', 'RadialDistribution']\n",
    "\n",
    "x = pd.merge(cp_df_cell, bf_df, on=[\"plate\", \"well\", \"site\", \"compound\"])\n",
    "bf_features = preprocessing.StandardScaler().fit_transform(x[bf_columns].values)  \n",
    "cp_features = preprocessing.StandardScaler().fit_transform(SimpleImputer(missing_values=np.nan, strategy='mean').fit_transform(x[cp_df_cell.columns[6:]].values))   \n",
    "linear_cka = cka.linear_CKA(cp_features, bf_features)\n",
    "kernel_cka = cka.kernel_CKA(cp_features, bf_features)\n",
    "print(\"Overall\", linear_cka, kernel_cka)\n",
    "for feature_group in feature_groups:\n",
    "    feature_columns = [x for x in cp_df_cell.columns if feature_group in x]\n",
    "    cp_features = preprocessing.StandardScaler().fit_transform(SimpleImputer(missing_values=np.nan, strategy='mean').fit_transform(x[feature_columns].values))\n",
    "    bf_features = preprocessing.StandardScaler().fit_transform(x[bf_columns].values)\n",
    "    linear_cka = cka.linear_CKA(cp_features, bf_features)\n",
    "    kernel_cka = cka.kernel_CKA(cp_features, bf_features)\n",
    "    print(feature_group, linear_cka, kernel_cka)\n"
   ]
  },
  {
   "cell_type": "code",
   "execution_count": 56,
   "metadata": {},
   "outputs": [
    {
     "name": "stdout",
     "output_type": "stream",
     "text": [
      "Overall 0.3130609035422896 0.4327822092817944\n",
      "AreaShape 0.18705810730408373 0.3163120473222049\n",
      "Correlation 0.3031421266001194 0.45014942276013176\n",
      "Granularity 0.2545782300344608 0.38195592547576124\n",
      "Intensity 0.24751656929927032 0.3887707566232473\n",
      "Neighbors 0.2509795225575832 0.3217496472097429\n",
      "RadialDistribution 0.24589908479104142 0.3789290935606736\n"
     ]
    }
   ],
   "source": [
    "feature_groups = ['AreaShape', 'Correlation', 'Granularity', 'Intensity', 'Neighbors', 'RadialDistribution']\n",
    "\n",
    "x = pd.merge(cp_df_cell, fl_df, on=[\"plate\", \"well\", \"site\", \"compound\"])\n",
    "fl_features = preprocessing.StandardScaler().fit_transform(x[fl_columns].values)  \n",
    "cp_features = preprocessing.StandardScaler().fit_transform(SimpleImputer(missing_values=np.nan, strategy='mean').fit_transform(x[cp_df_cell.columns[6:]].values))   \n",
    "linear_cka = cka.linear_CKA(cp_features, fl_features)\n",
    "kernel_cka = cka.kernel_CKA(cp_features, fl_features)\n",
    "print(\"Overall\", linear_cka, kernel_cka)\n",
    "for feature_group in feature_groups:\n",
    "    feature_columns = [x for x in cp_df_cell.columns if feature_group in x]\n",
    "    cp_features = preprocessing.StandardScaler().fit_transform(SimpleImputer(missing_values=np.nan, strategy='mean').fit_transform(x[feature_columns].values))\n",
    "    fl_features = preprocessing.StandardScaler().fit_transform(x[fl_columns].values)\n",
    "    linear_cka = cka.linear_CKA(cp_features, fl_features)\n",
    "    kernel_cka = cka.kernel_CKA(cp_features, fl_features)\n",
    "    print(feature_group, linear_cka, kernel_cka)\n"
   ]
  }
 ],
 "metadata": {
  "kernelspec": {
   "display_name": "Python 3.8.13 64-bit ('deepLtorch3')",
   "language": "python",
   "name": "python3"
  },
  "language_info": {
   "codemirror_mode": {
    "name": "ipython",
    "version": 3
   },
   "file_extension": ".py",
   "mimetype": "text/x-python",
   "name": "python",
   "nbconvert_exporter": "python",
   "pygments_lexer": "ipython3",
   "version": "3.8.13"
  },
  "orig_nbformat": 4,
  "vscode": {
   "interpreter": {
    "hash": "ffb4ee6da7dff732a4458ae09a79ec797a19ff182b1b136a6b943d2e13294873"
   }
  }
 },
 "nbformat": 4,
 "nbformat_minor": 2
}
